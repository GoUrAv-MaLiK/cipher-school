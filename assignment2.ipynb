{
 "cells": [
  {
   "cell_type": "markdown",
   "id": "ef93a393",
   "metadata": {},
   "source": [
    "# ASSIGNMENT 2 "
   ]
  },
  {
   "cell_type": "code",
   "execution_count": 1,
   "id": "0f8a073d",
   "metadata": {},
   "outputs": [
    {
     "name": "stdout",
     "output_type": "stream",
     "text": [
      "Enter a number: 10\n",
      "Natural no. from 1 to 10 are\n",
      "\n",
      "1 2 3 4 5 6 7 8 9 10 \n",
      "Natural no. from 1 to 10 in reverse order are\n",
      "\n",
      "10 9 8 7 6 5 4 3 2 1 "
     ]
    }
   ],
   "source": [
    "#Q1. Write a program to print all the natural numbers from 1 to n (user input). Then print the same in reverse order.\n",
    "\n",
    "n = int(input(\"Enter a number: \"))\n",
    "print(f\"Natural no. from 1 to {n} are\\n\" )\n",
    "for i in range(1,n+1):\n",
    "    print(i,end=\" \")\n",
    "print(f\"\\nNatural no. from 1 to {n} in reverse order are\\n\" )\n",
    "for i in range(n,0,-1):\n",
    "    print(i,end=\" \")"
   ]
  },
  {
   "cell_type": "code",
   "execution_count": 2,
   "id": "7c53b0f7",
   "metadata": {},
   "outputs": [
    {
     "name": "stdout",
     "output_type": "stream",
     "text": [
      "All even numbers from 1 to 101\n",
      "2 4 6 8 10 12 14 16 18 20 22 24 26 28 30 32 34 36 38 40 42 44 46 48 50 52 54 56 58 60 62 64 66 68 70 72 74 76 78 80 82 84 86 88 90 92 94 96 98 100 \n",
      "All odd numbers fron 1to 101\n",
      "1 3 5 7 9 11 13 15 17 19 21 23 25 27 29 31 33 35 37 39 41 43 45 47 49 51 53 55 57 59 61 63 65 67 69 71 73 75 77 79 81 83 85 87 89 91 93 95 97 99 "
     ]
    }
   ],
   "source": [
    "#Q2. Print all odd numbers and even numbers between 1 to 100.\n",
    "print(\"All even numbers from 1 to 101\")\n",
    "for i in range(1,101):\n",
    "    if(i%2 == 0):                \n",
    "        print(i, end =\" \")\n",
    "print(\"\\nAll odd numbers fron 1to 101\")\n",
    "for i in range(1,101):\n",
    "    if(i%2 != 0):\n",
    "        print(i, end =\" \")"
   ]
  },
  {
   "cell_type": "code",
   "execution_count": 8,
   "id": "e9169fbd",
   "metadata": {},
   "outputs": [
    {
     "name": "stdout",
     "output_type": "stream",
     "text": [
      "Enter a number: 33\n",
      "33 is not a prime number\n"
     ]
    }
   ],
   "source": [
    "#Q3. Write a program to check if a number is prime or not. Example: 7 ==> True, 6 ==> False\n",
    "n = int(input(\"Enter a number: \"))\n",
    "sum=0;\n",
    "if(n==2):\n",
    "    print(f\"{n} is a prime number\")\n",
    "else:\n",
    "    for i in range(1,10):\n",
    "        if(n%i==0):\n",
    "            sum=sum+1\n",
    "    if(sum==1):\n",
    "        print(f\"{n} is a prime number\")\n",
    "    else:\n",
    "        print(f\"{n} is not a prime number\")"
   ]
  },
  {
   "cell_type": "code",
   "execution_count": 13,
   "id": "69687cb4",
   "metadata": {},
   "outputs": [
    {
     "name": "stdout",
     "output_type": "stream",
     "text": [
      "Enter a number: 65\n",
      "sum:  998\n"
     ]
    }
   ],
   "source": [
    "'''Q4. Write a program that asks the user for a number n and prints the sum of the numbers 1 to n such that only multiples of \n",
    "three or five are considered in the sum, e.g. 3, 5, 6, 9, 10, 12, 15 for n=17.\n",
    "'''\n",
    "n = int(input(\"Enter a number: \"))\n",
    "sum =0\n",
    "for i in range(1,n+1):\n",
    "    if(i%3 == 0 or  i%5 == 0):\n",
    "        sum = sum+i\n",
    "print(\"sum: \" , sum )"
   ]
  },
  {
   "cell_type": "code",
   "execution_count": 24,
   "id": "0c79cf7a",
   "metadata": {},
   "outputs": [
    {
     "name": "stdout",
     "output_type": "stream",
     "text": [
      "Enter a number: 10\n",
      "for sum press 1\n",
      " for product press 2\n",
      "2\n",
      "product of integers from 1 to 10 is 3628800\n"
     ]
    }
   ],
   "source": [
    "'''\n",
    "Q5. Write a program that asks the user for a number n and gives them the possibility to choose between computing the sum and\n",
    "computing the product of 1,…,n.\n",
    "'''\n",
    "n = int(input(\"Enter a number: \"))\n",
    "print(\"for sum press 1\\n for product press 2\")\n",
    "a = int(input())\n",
    "sum =0\n",
    "p =1\n",
    "\n",
    "if(a==1):\n",
    "        for i in range(1,n+1):\n",
    "            sum= sum+i\n",
    "        print(f\"sum of integers from 1 to {n} is\",sum)\n",
    "else:\n",
    "    for i in range(1,n+1):\n",
    "        p=p*i\n",
    "    print(f\"product of integers from 1 to {n} is\",p)\n",
    "        "
   ]
  },
  {
   "cell_type": "code",
   "execution_count": 25,
   "id": "aef64228",
   "metadata": {},
   "outputs": [
    {
     "name": "stdout",
     "output_type": "stream",
     "text": [
      "sum:  233168\n"
     ]
    }
   ],
   "source": [
    "#Q6. Find the sum of all the multiples of 3 or 5 below 1000.\n",
    "sum =0\n",
    "for i in range(1,1000):\n",
    "    if(i%3 == 0 or  i%5 == 0):\n",
    "        sum+=i\n",
    "print(\"sum: \" , sum )"
   ]
  },
  {
   "cell_type": "code",
   "execution_count": 26,
   "id": "90247299",
   "metadata": {},
   "outputs": [
    {
     "name": "stdout",
     "output_type": "stream",
     "text": [
      "2002,2009,2016,2023,2037,2044,2051,2058,2072,2079,2086,2093,2107,2114,2121,2128,2142,2149,2156,2163,2177,2184,2191,2198,2212,2219,2226,2233,2247,2254,2261,2268,2282,2289,2296,2303,2317,2324,2331,2338,2352,2359,2366,2373,2387,2394,2401,2408,2422,2429,2436,2443,2457,2464,2471,2478,2492,2499,2506,2513,2527,2534,2541,2548,2562,2569,2576,2583,2597,2604,2611,2618,2632,2639,2646,2653,2667,2674,2681,2688,2702,2709,2716,2723,2737,2744,2751,2758,2772,2779,2786,2793,2807,2814,2821,2828,2842,2849,2856,2863,2877,2884,2891,2898,2912,2919,2926,2933,2947,2954,2961,2968,2982,2989,2996,3003,3017,3024,3031,3038,3052,3059,3066,3073,3087,3094,3101,3108,3122,3129,3136,3143,3157,3164,3171,3178,3192,3199,"
     ]
    }
   ],
   "source": [
    "'''Q7. Write a program which will find all such numbers which are divisible by 7 but are not a multiple of 5, between 2000 and \n",
    "3200 (both included).'''\n",
    "for i in range(2000,3201):\n",
    "    if (i%7==0 and i%5!=0):\n",
    "        print(i,end=\",\")"
   ]
  },
  {
   "cell_type": "code",
   "execution_count": null,
   "id": "fe5716e5",
   "metadata": {},
   "outputs": [],
   "source": [
    "#Q8. Find the difference between the sum of the squares of the first one hundred natural numbers and the square of the sum.\n",
    "sum = 0\n",
    "sos = 0\n",
    "diff = 0\n",
    "for i in range(1,101):\n",
    "    sum = sum+i\n",
    "    sos = sos+ i**2\n",
    "print(\"Sum = \", sum)\n",
    "print(\"sum of square = \", sos)\n",
    "diff = (sum**2) - sos\n",
    "print(\"difference = \", diff)"
   ]
  },
  {
   "cell_type": "code",
   "execution_count": 28,
   "id": "07ec1c66",
   "metadata": {},
   "outputs": [
    {
     "name": "stdout",
     "output_type": "stream",
     "text": [
      "Enter a number: 56\n",
      "factorial of 56 is:  710998587804863451854045647463724949736497978881168458687447040000000000000\n"
     ]
    }
   ],
   "source": [
    "#Q9. Write a program which can compute the factorial of a given number.\n",
    "n = int(input(\"Enter a number: \"))\n",
    "fact = 1\n",
    "if(n == 0):\n",
    "    print(\"Factorial of 0 is : 1 \")\n",
    "else:\n",
    "    for i in range(1,n+1):\n",
    "        fact = fact*i\n",
    "    print(\"factorial of\",n,\"is: \",fact)"
   ]
  },
  {
   "cell_type": "code",
   "execution_count": 1,
   "id": "4e188b1d",
   "metadata": {},
   "outputs": [
    {
     "name": "stdout",
     "output_type": "stream",
     "text": [
      "\n",
      "\n",
      "1 \n",
      "\n",
      "2 2 \n",
      "\n",
      "3 3 3 \n",
      "\n",
      "4 4 4 4 \n",
      "\n",
      "5 5 5 5 5 "
     ]
    }
   ],
   "source": [
    "for i in range(1,6):\n",
    "    print(\"\\n\")\n",
    "    for j in range(i):\n",
    "        print(i,end=\" \")\n",
    "    \n"
   ]
  },
  {
   "cell_type": "code",
   "execution_count": 5,
   "id": "6d727e1c",
   "metadata": {},
   "outputs": [
    {
     "name": "stdout",
     "output_type": "stream",
     "text": [
      "Enter a digit:\n",
      " 9\n",
      "enter the number to which pattern goes on:\n",
      " 2\n",
      "value of pattern :  108\n"
     ]
    }
   ],
   "source": [
    "'''Q11. Write a program that computes the value of a+aa+aaa+aaaa with a given digit as the value of a. Suppose the following \n",
    "input is supplied to the program: 9, Then, the output should be: 9 + 99 + 999 + 9999 =  11106.\n",
    "'''\n",
    "a=int(input(\"Enter a digit:\\n \"))\n",
    "n=int(input(\"enter the number to which pattern goes on:\\n \"))\n",
    "string=str(a)\n",
    "sum=0\n",
    "for i in range(1,n+1):\n",
    "    sum= sum + int(string*i)\n",
    "    \n",
    "print(\"value of pattern : \", sum)"
   ]
  },
  {
   "cell_type": "code",
   "execution_count": null,
   "id": "19d3377e",
   "metadata": {},
   "outputs": [],
   "source": [
    "#Q12. Find the length of a string using loops (not len())\n",
    "s = (input())\n",
    "count =0\n",
    "for i in s:\n",
    "    count = count+1\n",
    "print(\"Length of string\",s,\"is: \", count)"
   ]
  },
  {
   "cell_type": "code",
   "execution_count": 6,
   "id": "b5b58e7f",
   "metadata": {},
   "outputs": [
    {
     "name": "stdout",
     "output_type": "stream",
     "text": [
      "Enter a string:i study in cipher school285\n",
      "Digits =  3\n",
      "Letters =  20\n"
     ]
    }
   ],
   "source": [
    "'''Q13. Write a program that accepts a sentence (string) and calculate the number of letters and digits.\n",
    "Example: ‘this is a test sentence number 389’ ==> letters = 25 and digits = 3.\n",
    "'''\n",
    "s=input(\"Enter a string:\")\n",
    "d=0\n",
    "a=0\n",
    "for i in s:\n",
    "      if(i.isdigit()):\n",
    "            d=d+1\n",
    "      elif(i.isalpha()):\n",
    "         a=a+1\n",
    "print(\"Digits = \",d)\n",
    "print(\"Letters = \",a)"
   ]
  },
  {
   "cell_type": "code",
   "execution_count": 26,
   "id": "c18566f1",
   "metadata": {},
   "outputs": [
    {
     "name": "stdout",
     "output_type": "stream",
     "text": [
      "enter a string: heloo hey 556622\n",
      "HELOO HEY 556622\n"
     ]
    }
   ],
   "source": [
    "'''Q14.  Write a program that accepts a string and outputs the string with all capital letters.\n",
    "Example: ‘hello’ ==> ‘HELLO’. (using loop)'''\n",
    "s=input(\"enter a string: \")\n",
    "string=''\n",
    "\n",
    "for i in range(len(s)):\n",
    "    if s[i]>='a' and s[i]<='z':\n",
    "        string=string+chr((ord(s[i]) - 32))\n",
    "    else:\n",
    "        string=string+s[i]\n",
    "print(string)"
   ]
  },
  {
   "cell_type": "code",
   "execution_count": 25,
   "id": "7ff9463e",
   "metadata": {},
   "outputs": [
    {
     "name": "stdout",
     "output_type": "stream",
     "text": [
      "Enter a string: HELLO string\n",
      "Upper case letter:  5\n",
      "Lower case letter:  6\n"
     ]
    }
   ],
   "source": [
    "#Q15. Write a program that accepts a sentence and calculate the number of upper case letters and lower case letters.\n",
    "\n",
    "import string\n",
    "s = input(\"Enter a string: \")\n",
    "lower = 0\n",
    "upper = 0\n",
    "l=set(string.ascii_lowercase)\n",
    "u=set(string.ascii_uppercase)\n",
    "for i in s:\n",
    "    if i in l:\n",
    "        lower = lower+ 1\n",
    "    if i in u:\n",
    "        upper = upper+1\n",
    "print(\"Upper case letter: \", upper)\n",
    "print(\"Lower case letter: \", lower)"
   ]
  },
  {
   "cell_type": "code",
   "execution_count": 22,
   "id": "741b64d3",
   "metadata": {},
   "outputs": [
    {
     "name": "stdout",
     "output_type": "stream",
     "text": [
      "Enter a string:hello how are you\n",
      "Enter a character: o\n",
      "count of o in strinrg  hello how are you is :  3\n"
     ]
    }
   ],
   "source": [
    "#Q16. Write  a program that counts the occurrence of a character in a string. Example: ‘This is a test string.’ count of i = 3.\n",
    "s = input(\"Enter a string:\")\n",
    "c = input(\"Enter a character: \")\n",
    "count = 0\n",
    "for i in s:\n",
    "    if(i == c):\n",
    "        count = count+1\n",
    "print(\"count of\", c,\"in strinrg \",s,\"is : \", count)"
   ]
  },
  {
   "cell_type": "code",
   "execution_count": 21,
   "id": "40402964",
   "metadata": {},
   "outputs": [
    {
     "name": "stdout",
     "output_type": "stream",
     "text": [
      "Enter a string: hello world\n",
      "No\n"
     ]
    }
   ],
   "source": [
    "#Q17. Write a program to find if a given string is a palindrome or not.\n",
    "s = input(\"Enter a string: \")\n",
    "\n",
    "if s ==s[: : -1]:\n",
    "    print(\"yes\")\n",
    "else:\n",
    "    print(\"No\")"
   ]
  },
  {
   "cell_type": "code",
   "execution_count": 20,
   "id": "fec0fa58",
   "metadata": {},
   "outputs": [
    {
     "name": "stdout",
     "output_type": "stream",
     "text": [
      "Enter string 1 : hello world\n",
      "Enter string 2 : hello\n",
      "yes it is a substring\n"
     ]
    }
   ],
   "source": [
    "#Q18. Write a program which accepts two strings s1 and s2 and checks if s2 is a substring of s1.\n",
    "s1=input(\"Enter string 1 : \")\n",
    "s2=input(\"Enter string 2 : \")\n",
    "if (s1.find(s2) ==-1):\n",
    "    print(\"not a substring\")\n",
    "else:\n",
    "    print(\"yes it is a substring\")\n",
    "            "
   ]
  },
  {
   "cell_type": "code",
   "execution_count": 18,
   "id": "c7620d17",
   "metadata": {},
   "outputs": [
    {
     "name": "stdout",
     "output_type": "stream",
     "text": [
      "username: gourav\n",
      "password: gmalik@1\n",
      "valid password\n"
     ]
    }
   ],
   "source": [
    "'''\n",
    "Q19. Make a password validator with the following checks. A website requires the users to input username and password to\n",
    "register. Write a program to check the validity of password input by users.\n",
    "    Following are the criteria for checking the password:\n",
    "1. At least  1 letter between [a-z]     \n",
    "2. At least 1 number between [0-9]     \n",
    "3. At least 1 letter between [@$#%&]'''\n",
    "import re\n",
    "u =input(\"username: \")\n",
    "p= input(\"password: \")\n",
    "x = True\n",
    "alphabet=re.search(\"[a-z]\",p)\n",
    "digit=re.search(\"[0-9]\",p)\n",
    "symbol=re.search(\"[$#@]\",p)\n",
    "if alphabet and digit and symbol:\n",
    "    print(\"valid password\")\n",
    "else:\n",
    "    print(\"Not a Valid Password\")"
   ]
  },
  {
   "cell_type": "code",
   "execution_count": 27,
   "id": "4ca268e9",
   "metadata": {},
   "outputs": [
    {
     "name": "stdout",
     "output_type": "stream",
     "text": [
      "vowels present in string Hello how are you all are\n",
      " {'o', 'u', 'e', 'a'}\n"
     ]
    }
   ],
   "source": [
    "'''\n",
    "Q20. s = \"Hello how are you all\". For this given string write a code such that it prints the vowels present in the \n",
    "string s if any. ex: \"i\", \"a\" etc.'''\n",
    "\n",
    "s=\"Hello how are you all\"\n",
    "vowel={\"a\",\"e\",\"i\",\"o\",\"u\",\"A\",\"E\",\"I\",\"O\",\"U\"}\n",
    "string=\"\"\n",
    "for i in s:\n",
    "    if i in vowel:\n",
    "        string+=i\n",
    "print(f\"vowels present in string {s} are\\n\",set(string))\n"
   ]
  },
  {
   "cell_type": "code",
   "execution_count": null,
   "id": "ea4d77f3",
   "metadata": {},
   "outputs": [],
   "source": []
  }
 ],
 "metadata": {
  "kernelspec": {
   "display_name": "Python 3",
   "language": "python",
   "name": "python3"
  },
  "language_info": {
   "codemirror_mode": {
    "name": "ipython",
    "version": 3
   },
   "file_extension": ".py",
   "mimetype": "text/x-python",
   "name": "python",
   "nbconvert_exporter": "python",
   "pygments_lexer": "ipython3",
   "version": "3.8.5"
  }
 },
 "nbformat": 4,
 "nbformat_minor": 5
}
